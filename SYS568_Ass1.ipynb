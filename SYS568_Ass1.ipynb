{
  "nbformat": 4,
  "nbformat_minor": 0,
  "metadata": {
    "colab": {
      "provenance": [],
      "authorship_tag": "ABX9TyNtbfDBg/CvY3VUKhyts/eE",
      "include_colab_link": true
    },
    "kernelspec": {
      "name": "python3",
      "display_name": "Python 3"
    },
    "language_info": {
      "name": "python"
    }
  },
  "cells": [
    {
      "cell_type": "markdown",
      "metadata": {
        "id": "view-in-github",
        "colab_type": "text"
      },
      "source": [
        "<a href=\"https://colab.research.google.com/github/Sankarsh100/515Project/blob/master/SYS568_Ass1.ipynb\" target=\"_parent\"><img src=\"https://colab.research.google.com/assets/colab-badge.svg\" alt=\"Open In Colab\"/></a>"
      ]
    },
    {
      "cell_type": "code",
      "execution_count": 2,
      "metadata": {
        "colab": {
          "base_uri": "https://localhost:8080/"
        },
        "id": "34hDuEVqSqAU",
        "outputId": "02c20e77-458e-4534-ac24-53c5e6c30a45"
      },
      "outputs": [
        {
          "output_type": "stream",
          "name": "stdout",
          "text": [
            "Epoch [500/10000], Loss: 0.2494\n",
            "Epoch [1000/10000], Loss: 0.2491\n",
            "Epoch [1500/10000], Loss: 0.2487\n",
            "Epoch [2000/10000], Loss: 0.2480\n",
            "Epoch [2500/10000], Loss: 0.2467\n",
            "Epoch [3000/10000], Loss: 0.2444\n",
            "Epoch [3500/10000], Loss: 0.2400\n",
            "Epoch [4000/10000], Loss: 0.2324\n",
            "Epoch [4500/10000], Loss: 0.2209\n",
            "Epoch [5000/10000], Loss: 0.2056\n",
            "Epoch [5500/10000], Loss: 0.1860\n",
            "Epoch [6000/10000], Loss: 0.1574\n",
            "Epoch [6500/10000], Loss: 0.1172\n",
            "Epoch [7000/10000], Loss: 0.0772\n",
            "Epoch [7500/10000], Loss: 0.0501\n",
            "Epoch [8000/10000], Loss: 0.0344\n",
            "Epoch [8500/10000], Loss: 0.0251\n",
            "Epoch [9000/10000], Loss: 0.0193\n",
            "Epoch [9500/10000], Loss: 0.0155\n",
            "Epoch [10000/10000], Loss: 0.0128\n",
            "\n",
            "Predicted Output:\n",
            " tensor([[0.],\n",
            "        [1.],\n",
            "        [1.],\n",
            "        [0.]])\n",
            "\n",
            "Actual Output:\n",
            " tensor([[0.],\n",
            "        [1.],\n",
            "        [1.],\n",
            "        [0.]])\n"
          ]
        }
      ],
      "source": [
        "\n",
        "\n",
        "import torch\n",
        "import torch.nn as nn\n",
        "import torch.optim as optim\n",
        "\n",
        "# Define the XOR dataset\n",
        "X = torch.tensor([[0, 0], [0, 1], [1, 0], [1, 1]], dtype=torch.float32)\n",
        "y = torch.tensor([[0], [1], [1], [0]], dtype=torch.float32)\n",
        "\n",
        "# Define the MLP model\n",
        "class XORModel(nn.Module):\n",
        "    def __init__(self):\n",
        "        super(XORModel, self).__init__()\n",
        "        self.fc1 = nn.Linear(2, 2)\n",
        "        self.fc2 = nn.Linear(2, 1)\n",
        "        self.sigmoid = nn.Sigmoid()\n",
        "\n",
        "    def forward(self, x):\n",
        "        x = self.fc1(x)\n",
        "        x = self.sigmoid(x)\n",
        "        x = self.fc2(x)\n",
        "        x = self.sigmoid(x)\n",
        "        return x\n",
        "\n",
        "# Instantiate the model, loss function, and optimizer\n",
        "model = XORModel()\n",
        "criterion = nn.MSELoss()\n",
        "optimizer = optim.SGD(model.parameters(), lr=0.1)\n",
        "\n",
        "# Training loop\n",
        "epochs = 10000\n",
        "for epoch in range(epochs):\n",
        "    # Forward pass\n",
        "    outputs = model(X)\n",
        "    loss = criterion(outputs, y)\n",
        "\n",
        "    # Backward and optimize\n",
        "    optimizer.zero_grad()\n",
        "    loss.backward()\n",
        "    optimizer.step()\n",
        "\n",
        "    # Print progress\n",
        "    if (epoch + 1) % 500 == 0:\n",
        "        print(f'Epoch [{epoch+1}/{epochs}], Loss: {loss.item():.4f}')\n",
        "\n",
        "# Test the model\n",
        "with torch.no_grad():\n",
        "    predicted = model(X)\n",
        "    predicted = (predicted > 0.5).float()  # Convert probabilities to binary predictions\n",
        "    print(\"\\nPredicted Output:\\n\", predicted)\n",
        "    print(\"\\nActual Output:\\n\", y)\n"
      ]
    },
    {
      "cell_type": "code",
      "source": [],
      "metadata": {
        "id": "IMFxndnRTt8A"
      },
      "execution_count": null,
      "outputs": []
    }
  ]
}